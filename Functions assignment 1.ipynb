{
 "cells": [
  {
   "cell_type": "code",
   "execution_count": 55,
   "id": "39b3bb5b-7793-4c14-93ce-bdcbd302b92e",
   "metadata": {},
   "outputs": [],
   "source": [
    "def subfields():\n",
    "    print(\"\"\"Sub-fields in AI are:\n",
    "    Machine Learning\n",
    "    Neural Networks\n",
    "    Vision\n",
    "    Robotics\n",
    "    Speech Processing\n",
    "    Natural Language Processing\"\"\")"
   ]
  },
  {
   "cell_type": "code",
   "execution_count": 57,
   "id": "33748c39-1ee9-4875-b747-018dbda2822e",
   "metadata": {},
   "outputs": [
    {
     "name": "stdout",
     "output_type": "stream",
     "text": [
      "Sub-fields in AI are:\n",
      "Machine Learning\n",
      "Neural Networks\n",
      "Vision\n",
      "Robotics\n",
      "Speech Processing\n",
      "Natural Language Processing\n"
     ]
    }
   ],
   "source": [
    "subfields()"
   ]
  },
  {
   "cell_type": "code",
   "execution_count": 67,
   "id": "f6a68988-b914-4027-b24b-ded404e27bb1",
   "metadata": {},
   "outputs": [],
   "source": [
    "def oddeven():\n",
    "    num = int(input(\"Enter a number :\"))\n",
    "    if num % 2 != 0:\n",
    "        print(f\"{num} is odd\")\n",
    "    else:\n",
    "        print(f\"{num} is Even\")"
   ]
  },
  {
   "cell_type": "code",
   "execution_count": 69,
   "id": "e7aa2fe0-cc97-4776-ac7a-e8039c20373d",
   "metadata": {},
   "outputs": [
    {
     "name": "stdin",
     "output_type": "stream",
     "text": [
      "Enter a number : 5\n"
     ]
    },
    {
     "name": "stdout",
     "output_type": "stream",
     "text": [
      "5 is odd\n"
     ]
    }
   ],
   "source": [
    "oddeven()"
   ]
  },
  {
   "cell_type": "code",
   "execution_count": 1,
   "id": "e3b1233e-d269-4394-bd01-372b2a631922",
   "metadata": {},
   "outputs": [],
   "source": [
    "def elegible():\n",
    "    gender = input(\"Your Gender: \")\n",
    "    age = int(input(\"Your Age: \"))\n",
    "    gender = gender.lower()\n",
    "    if gender == \"male\":\n",
    "        if age >= 21:\n",
    "            print(\"ELIGIBLE\")\n",
    "        else:\n",
    "            print(\"NOT ELIGIBLE\")\n",
    "    elif gender == \"female\":\n",
    "        if age >= 18:\n",
    "            print(\"ELIGIBLE\")\n",
    "        else:\n",
    "            print(\"NOT ELIGIBLE\")"
   ]
  },
  {
   "cell_type": "code",
   "execution_count": 3,
   "id": "25b4e268-c48f-40cc-bfc8-347c4c2fc457",
   "metadata": {},
   "outputs": [
    {
     "name": "stdin",
     "output_type": "stream",
     "text": [
      "Your Gender:  male\n",
      "Your Age:  24\n"
     ]
    },
    {
     "name": "stdout",
     "output_type": "stream",
     "text": [
      "ELIGIBLE\n"
     ]
    }
   ],
   "source": [
    "elegible()"
   ]
  },
  {
   "cell_type": "code",
   "execution_count": 3,
   "id": "c2a70ed5-4bd7-4b19-9c2c-0fe029b56813",
   "metadata": {},
   "outputs": [],
   "source": [
    "def percentage():\n",
    "    math = int(input(\"Enter marks for Math: \"))\n",
    "    science = int(input(\"Enter marks for Science: \"))\n",
    "    english = int(input(\"Enter marks for English: \"))\n",
    "    history = int(input(\"Enter marks for History: \"))\n",
    "    geography = int(input(\"Enter marks for Geography: \"))\n",
    "    \n",
    "    print()\n",
    "    print(f\"Math = {math}\")\n",
    "    print(f\"Science = {science}\")\n",
    "    print(f\"English = {english}\")\n",
    "    print(f\"History = {history}\")\n",
    "    print(f\"Geography = {geography}\")\n",
    "    \n",
    "    total = math + science + english + history + geography\n",
    "    percentage = (total / 500) * 100\n",
    "    \n",
    "    print(f\"Total : {total}\")\n",
    "    print(f\"Percentage : {percentage}\")"
   ]
  },
  {
   "cell_type": "code",
   "execution_count": 5,
   "id": "20c2e8e5-73ed-4796-b906-550963e00736",
   "metadata": {},
   "outputs": [
    {
     "name": "stdin",
     "output_type": "stream",
     "text": [
      "Enter marks for Math:  76\n",
      "Enter marks for Science:  67\n",
      "Enter marks for English:  65\n",
      "Enter marks for History:  98\n",
      "Enter marks for Geography:  78\n"
     ]
    },
    {
     "name": "stdout",
     "output_type": "stream",
     "text": [
      "\n",
      "Math = 76\n",
      "Science = 67\n",
      "English = 65\n",
      "History = 98\n",
      "Geography = 78\n",
      "Total : 384\n",
      "Percentage : 76.8\n"
     ]
    }
   ],
   "source": [
    "percentage()"
   ]
  },
  {
   "cell_type": "code",
   "execution_count": 11,
   "id": "8e4380e7-6f65-4422-8d91-83f7748daa5a",
   "metadata": {},
   "outputs": [],
   "source": [
    "def triangle():\n",
    "    Height = 32\n",
    "    Breadth = 34\n",
    "    Area = (Height * Breadth) / 2\n",
    "    \n",
    "    print(f\"Height:{Height}\")\n",
    "    print(f\"Breadth:{Breadth}\")\n",
    "    print(\"Area formula: (Height*Breadth)/2\")\n",
    "    print(f\"Area of Triangle: {Area}\")\n",
    "    \n",
    "    Height1 = 2\n",
    "    Height2 = 4\n",
    "    Breadth = 4\n",
    "    Perimeter = Height1 + Height2 + Breadth\n",
    "    \n",
    "    print(f\"Height1:{Height1}\")\n",
    "    print(f\"Height2:{Height2}\")\n",
    "    print(f\"Breadth:{Breadth}\")\n",
    "    print(\"Perimeter formula: Height1+Height2+Breadth\")\n",
    "    print(f\"Perimeter of Triangle: {Perimeter}\")"
   ]
  },
  {
   "cell_type": "code",
   "execution_count": 13,
   "id": "a0da7939-421f-4ba1-adb9-fe691f575b83",
   "metadata": {},
   "outputs": [
    {
     "name": "stdout",
     "output_type": "stream",
     "text": [
      "Height:32\n",
      "Breadth:34\n",
      "Area formula: (Height*Breadth)/2\n",
      "Area of Triangle: 544.0\n",
      "Height1:2\n",
      "Height2:4\n",
      "Breadth:4\n",
      "Perimeter formula: Height1+Height2+Breadth\n",
      "Perimeter of Triangle: 10\n"
     ]
    }
   ],
   "source": [
    "triangle()"
   ]
  },
  {
   "cell_type": "code",
   "execution_count": null,
   "id": "fb91c472-8b3d-4258-9f0b-5aebde123c82",
   "metadata": {},
   "outputs": [],
   "source": []
  }
 ],
 "metadata": {
  "kernelspec": {
   "display_name": "Python [conda env:base] *",
   "language": "python",
   "name": "conda-base-py"
  },
  "language_info": {
   "codemirror_mode": {
    "name": "ipython",
    "version": 3
   },
   "file_extension": ".py",
   "mimetype": "text/x-python",
   "name": "python",
   "nbconvert_exporter": "python",
   "pygments_lexer": "ipython3",
   "version": "3.12.7"
  }
 },
 "nbformat": 4,
 "nbformat_minor": 5
}
