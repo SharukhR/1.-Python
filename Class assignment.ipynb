{
 "cells": [
  {
   "cell_type": "code",
   "execution_count": 1,
   "id": "2e9bc2c2-2fac-4bf6-933b-1960d4ff388d",
   "metadata": {},
   "outputs": [],
   "source": [
    "class SubfieldsInAI:\n",
    "    def subfields():\n",
    "        print(\"\"\"Sub-fields in AI are:\n",
    "        Machine Learning\n",
    "        Neural Networks\n",
    "        Vision\n",
    "        Robotics\n",
    "        Speech Processing\n",
    "        Natural Language Processing\"\"\")"
   ]
  },
  {
   "cell_type": "code",
   "execution_count": 5,
   "id": "b5466bfd-6fc0-4d88-bdcf-ecf98e321133",
   "metadata": {},
   "outputs": [
    {
     "name": "stdout",
     "output_type": "stream",
     "text": [
      "Sub-fields in AI are:\n",
      "        Machine Learning\n",
      "        Neural Networks\n",
      "        Vision\n",
      "        Robotics\n",
      "        Speech Processing\n",
      "        Natural Language Processing\n"
     ]
    }
   ],
   "source": [
    "SubfieldsInAI.subfields()"
   ]
  },
  {
   "cell_type": "code",
   "execution_count": 7,
   "id": "f81c5d87-06d1-4a26-ba0c-5497038fa11f",
   "metadata": {},
   "outputs": [],
   "source": [
    "class OddEven:\n",
    "    def oddeven():\n",
    "        num = int(input(\"Enter a number :\"))\n",
    "        if num % 2 != 0:\n",
    "            print(f\"{num} is odd\")\n",
    "        else:\n",
    "            print(f\"{num} is Even\")"
   ]
  },
  {
   "cell_type": "code",
   "execution_count": 9,
   "id": "e0b81639-a240-4274-81e4-f655bac0854f",
   "metadata": {},
   "outputs": [
    {
     "name": "stdin",
     "output_type": "stream",
     "text": [
      "Enter a number : 4\n"
     ]
    },
    {
     "name": "stdout",
     "output_type": "stream",
     "text": [
      "4 is Even\n"
     ]
    }
   ],
   "source": [
    "OddEven.oddeven()"
   ]
  },
  {
   "cell_type": "code",
   "execution_count": 11,
   "id": "d75b6df2-d8be-4a3c-bf7c-995b4e9a7708",
   "metadata": {},
   "outputs": [],
   "source": [
    "class ElegiblityForMarriage:\n",
    "    def elegible():\n",
    "        gender = input(\"Your Gender: \")\n",
    "        age = int(input(\"Your Age: \"))\n",
    "        gender = gender.lower()\n",
    "        if gender == \"male\":\n",
    "            if age >= 21:\n",
    "                print(\"ELIGIBLE\")\n",
    "            else:\n",
    "                print(\"NOT ELIGIBLE\")\n",
    "        elif gender == \"female\":\n",
    "            if age >= 18:\n",
    "                print(\"ELIGIBLE\")\n",
    "            else:\n",
    "                print(\"NOT ELIGIBLE\")"
   ]
  },
  {
   "cell_type": "code",
   "execution_count": 15,
   "id": "0b9639a5-7d7d-4db1-bb55-34a238366eea",
   "metadata": {},
   "outputs": [
    {
     "name": "stdin",
     "output_type": "stream",
     "text": [
      "Your Gender:  male\n",
      "Your Age:  24\n"
     ]
    },
    {
     "name": "stdout",
     "output_type": "stream",
     "text": [
      "ELIGIBLE\n"
     ]
    }
   ],
   "source": [
    "ElegiblityForMarriage.elegible()"
   ]
  },
  {
   "cell_type": "code",
   "execution_count": 17,
   "id": "000ad051-f9fc-4eaf-a448-f19911cb3033",
   "metadata": {},
   "outputs": [],
   "source": [
    "class FindPercent:\n",
    "    def percentage():\n",
    "        math = int(input(\"Enter marks for Math: \"))\n",
    "        science = int(input(\"Enter marks for Science: \"))\n",
    "        english = int(input(\"Enter marks for English: \"))\n",
    "        history = int(input(\"Enter marks for History: \"))\n",
    "        geography = int(input(\"Enter marks for Geography: \"))\n",
    "        \n",
    "        print()\n",
    "        print(f\"Math = {math}\")\n",
    "        print(f\"Science = {science}\")\n",
    "        print(f\"English = {english}\")\n",
    "        print(f\"History = {history}\")\n",
    "        print(f\"Geography = {geography}\")\n",
    "        \n",
    "        total = math + science + english + history + geography\n",
    "        percentage = (total / 500) * 100\n",
    "        \n",
    "        print(f\"Total : {total}\")\n",
    "        print(f\"Percentage : {percentage}\")"
   ]
  },
  {
   "cell_type": "code",
   "execution_count": 19,
   "id": "40fd0737-4085-4e83-a4ac-00418df7bfbc",
   "metadata": {},
   "outputs": [
    {
     "name": "stdin",
     "output_type": "stream",
     "text": [
      "Enter marks for Math:  87\n",
      "Enter marks for Science:  98\n",
      "Enter marks for English:  98\n",
      "Enter marks for History:  78\n",
      "Enter marks for Geography:  86\n"
     ]
    },
    {
     "name": "stdout",
     "output_type": "stream",
     "text": [
      "\n",
      "Math = 87\n",
      "Science = 98\n",
      "English = 98\n",
      "History = 78\n",
      "Geography = 86\n",
      "Total : 447\n",
      "Percentage : 89.4\n"
     ]
    }
   ],
   "source": [
    "FindPercent.percentage()"
   ]
  },
  {
   "cell_type": "code",
   "execution_count": 21,
   "id": "b096648b-9c54-48d6-b20b-1043dc613c97",
   "metadata": {},
   "outputs": [],
   "source": [
    "class triangle:\n",
    "    def triangle():\n",
    "        Height = 32\n",
    "        Breadth = 34\n",
    "        Area = (Height * Breadth) / 2\n",
    "        \n",
    "        print(f\"Height:{Height}\")\n",
    "        print(f\"Breadth:{Breadth}\")\n",
    "        print(\"Area formula: (Height*Breadth)/2\")\n",
    "        print(f\"Area of Triangle: {Area}\")\n",
    "        \n",
    "        Height1 = 2\n",
    "        Height2 = 4\n",
    "        Breadth = 4\n",
    "        Perimeter = Height1 + Height2 + Breadth\n",
    "        \n",
    "        print(f\"Height1:{Height1}\")\n",
    "        print(f\"Height2:{Height2}\")\n",
    "        print(f\"Breadth:{Breadth}\")\n",
    "        print(\"Perimeter formula: Height1+Height2+Breadth\")\n",
    "        print(f\"Perimeter of Triangle: {Perimeter}\")"
   ]
  },
  {
   "cell_type": "code",
   "execution_count": 23,
   "id": "e1613378-3093-4804-91ce-fca84cde7e76",
   "metadata": {},
   "outputs": [
    {
     "name": "stdout",
     "output_type": "stream",
     "text": [
      "Height:32\n",
      "Breadth:34\n",
      "Area formula: (Height*Breadth)/2\n",
      "Area of Triangle: 544.0\n",
      "Height1:2\n",
      "Height2:4\n",
      "Breadth:4\n",
      "Perimeter formula: Height1+Height2+Breadth\n",
      "Perimeter of Triangle: 10\n"
     ]
    }
   ],
   "source": [
    "triangle.triangle()"
   ]
  },
  {
   "cell_type": "code",
   "execution_count": null,
   "id": "a3ed59b1-5e41-4ab8-b2a9-d3793c633de6",
   "metadata": {},
   "outputs": [],
   "source": []
  }
 ],
 "metadata": {
  "kernelspec": {
   "display_name": "Python [conda env:base] *",
   "language": "python",
   "name": "conda-base-py"
  },
  "language_info": {
   "codemirror_mode": {
    "name": "ipython",
    "version": 3
   },
   "file_extension": ".py",
   "mimetype": "text/x-python",
   "name": "python",
   "nbconvert_exporter": "python",
   "pygments_lexer": "ipython3",
   "version": "3.12.7"
  }
 },
 "nbformat": 4,
 "nbformat_minor": 5
}
