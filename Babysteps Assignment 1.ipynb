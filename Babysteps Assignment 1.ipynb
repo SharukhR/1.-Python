{
 "cells": [
  {
   "cell_type": "code",
   "execution_count": 1,
   "id": "8137fca5-3356-4f9a-a785-e177e96d05c0",
   "metadata": {},
   "outputs": [
    {
     "name": "stdout",
     "output_type": "stream",
     "text": [
      "Welcome to Assignment-1\n"
     ]
    }
   ],
   "source": [
    "print(\"Welcome to Assignment-1\")"
   ]
  },
  {
   "cell_type": "code",
   "execution_count": 7,
   "id": "324a6653-54b4-4261-a936-de48ce1c4368",
   "metadata": {},
   "outputs": [
    {
     "name": "stdout",
     "output_type": "stream",
     "text": [
      "Num1=  10\n",
      "Num2=  30\n",
      "Add =  40\n"
     ]
    }
   ],
   "source": [
    "num1= 10\n",
    "print(\"Num1= \",num1)\n",
    "num2= 30\n",
    "print(\"Num2= \",num2)\n",
    "Add= num1+num2\n",
    "\n",
    "print(\"Add = \", Add)"
   ]
  },
  {
   "cell_type": "code",
   "execution_count": 17,
   "id": "f6821430-ea19-4352-8a19-d3c7aae430ae",
   "metadata": {},
   "outputs": [
    {
     "name": "stdin",
     "output_type": "stream",
     "text": [
      "Enter your Weight(in Kgs) : 77\n",
      "Enter your Height(in meters) : 1.84\n"
     ]
    },
    {
     "name": "stdout",
     "output_type": "stream",
     "text": [
      "Your BMI is  22.743383742911153\n",
      "YOUR RESULT :\n",
      "Normal\n"
     ]
    }
   ],
   "source": [
    "weight=float(input(\"Enter your Weight(in Kgs) :\"))\n",
    "height=float(input(\"Enter your Height(in meters) :\"))\n",
    "bmi= weight/(height**2) \n",
    "print(\"Your BMI is \",bmi)\n",
    "print(\"YOUR RESULT :\")\n",
    "if(bmi<16):\n",
    "    print(\"Severe Thinness\")\n",
    "elif(bmi<17):\n",
    "    print(\"Moderate Thinness\")\n",
    "elif(bmi<18.5):\n",
    "    print(\"Mild Thinness\")\n",
    "elif(bmi<25):\n",
    "    print(\"Normal\")\n",
    "elif(bmi<30):\n",
    "    print(\"Overweight\")\n",
    "elif(bmi<35):\n",
    "    print(\"Obese Class I\")\n",
    "elif(bmi<40):\n",
    "    print(\"Obese Class II\")\n",
    "else:\n",
    "    print(\"Obese Class III\")"
   ]
  },
  {
   "cell_type": "code",
   "execution_count": null,
   "id": "8213683f-f7c5-4cd3-a0c8-d0b8ff482633",
   "metadata": {},
   "outputs": [],
   "source": []
  }
 ],
 "metadata": {
  "kernelspec": {
   "display_name": "Python [conda env:base] *",
   "language": "python",
   "name": "conda-base-py"
  },
  "language_info": {
   "codemirror_mode": {
    "name": "ipython",
    "version": 3
   },
   "file_extension": ".py",
   "mimetype": "text/x-python",
   "name": "python",
   "nbconvert_exporter": "python",
   "pygments_lexer": "ipython3",
   "version": "3.12.7"
  }
 },
 "nbformat": 4,
 "nbformat_minor": 5
}
