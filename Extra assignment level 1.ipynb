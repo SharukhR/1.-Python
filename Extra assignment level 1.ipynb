{
 "cells": [
  {
   "cell_type": "code",
   "execution_count": 1,
   "id": "df1a6755-4bd5-4d94-ab4f-175cbb09a798",
   "metadata": {},
   "outputs": [
    {
     "name": "stdout",
     "output_type": "stream",
     "text": [
      "HOPE AI\n"
     ]
    }
   ],
   "source": [
    "print(\"HOPE AI\")"
   ]
  },
  {
   "cell_type": "code",
   "execution_count": 3,
   "id": "95ae9f15-4376-4f1d-a7c9-763074740ef1",
   "metadata": {},
   "outputs": [
    {
     "name": "stdin",
     "output_type": "stream",
     "text": [
      "Enter your Institute Name ? Hope AI\n"
     ]
    },
    {
     "data": {
      "text/plain": [
       "'Hope AI'"
      ]
     },
     "execution_count": 3,
     "metadata": {},
     "output_type": "execute_result"
    }
   ],
   "source": [
    "input(\"Enter your Institute Name ?\")"
   ]
  },
  {
   "cell_type": "code",
   "execution_count": 5,
   "id": "e9505e9a-a609-4d7b-ac84-463c75e104db",
   "metadata": {},
   "outputs": [
    {
     "name": "stdin",
     "output_type": "stream",
     "text": [
      "Enter your name : Sharukh\n",
      "Enter your age : 24\n",
      "Enter your School name : BVB\n",
      "Enter Your Degree : MBA\n"
     ]
    },
    {
     "data": {
      "text/plain": [
       "'MBA'"
      ]
     },
     "execution_count": 5,
     "metadata": {},
     "output_type": "execute_result"
    }
   ],
   "source": [
    "input(\"Enter your name :\")\n",
    "int(input(\"Enter your age :\"))\n",
    "input(\"Enter your School name :\")\n",
    "input(\"Enter Your Degree :\")"
   ]
  },
  {
   "cell_type": "code",
   "execution_count": 9,
   "id": "0114fe3c-8e55-407b-8d58-044cfe5ce405",
   "metadata": {},
   "outputs": [
    {
     "name": "stdout",
     "output_type": "stream",
     "text": [
      "A =  43\n",
      "B =  34\n",
      "Add =  77\n"
     ]
    }
   ],
   "source": [
    "a= 43\n",
    "b= 34\n",
    "add= a+b\n",
    "print(\"A = \",a)\n",
    "print(\"B = \",b)\n",
    "print(\"Add = \",add)\n",
    "\n"
   ]
  },
  {
   "cell_type": "code",
   "execution_count": 11,
   "id": "6a7ba9b0-db12-4716-89ae-c876e26c34f0",
   "metadata": {},
   "outputs": [
    {
     "name": "stdout",
     "output_type": "stream",
     "text": [
      "A =  43\n",
      "B =  34\n",
      "Sub =  9\n"
     ]
    }
   ],
   "source": [
    "a= 43\n",
    "b= 34\n",
    "sub= a-b\n",
    "print(\"A = \",a)\n",
    "print(\"B = \",b)\n",
    "print(\"Sub = \",sub)\n",
    "\n"
   ]
  },
  {
   "cell_type": "code",
   "execution_count": 13,
   "id": "e098947b-d07e-4f84-8822-01538a4e66e1",
   "metadata": {},
   "outputs": [
    {
     "name": "stdout",
     "output_type": "stream",
     "text": [
      "A =  63\n",
      "B =  97\n",
      "Mul =  6111\n"
     ]
    }
   ],
   "source": [
    "a= 63\n",
    "b= 97\n",
    "mul = a*b\n",
    "print(\"A = \",a)\n",
    "print(\"B = \",b)\n",
    "print(\"Mul = \",mul)\n"
   ]
  },
  {
   "cell_type": "code",
   "execution_count": 17,
   "id": "f7793809-1274-4dec-a866-8675c34b860b",
   "metadata": {},
   "outputs": [
    {
     "name": "stdout",
     "output_type": "stream",
     "text": [
      "A =  76\n",
      "B =  31\n",
      "Float Div =  2.4516129032258065\n"
     ]
    }
   ],
   "source": [
    "a= 76\n",
    "b= 31\n",
    "div = a/b\n",
    "print(\"A = \",a)\n",
    "print(\"B = \",b)\n",
    "print(\"Float Div = \",div)"
   ]
  },
  {
   "cell_type": "code",
   "execution_count": 19,
   "id": "e4d03cc5-8cf4-4265-be39-d0720dc9035f",
   "metadata": {},
   "outputs": [
    {
     "name": "stdout",
     "output_type": "stream",
     "text": [
      "A =  76\n",
      "B =  31\n",
      "Floor Div =  2\n"
     ]
    }
   ],
   "source": [
    "a= 76\n",
    "b= 31\n",
    "fdiv = a//b\n",
    "print(\"A = \",a)\n",
    "print(\"B = \",b)\n",
    "print(\"Floor Div = \",fdiv)"
   ]
  },
  {
   "cell_type": "code",
   "execution_count": 21,
   "id": "406a4232-369c-4775-80ca-3ab5aaef5c1d",
   "metadata": {},
   "outputs": [
    {
     "name": "stdout",
     "output_type": "stream",
     "text": [
      "A =  76\n",
      "B =  31\n",
      "Modulo =  14\n"
     ]
    }
   ],
   "source": [
    "a= 76\n",
    "b= 31\n",
    "mod = a%b\n",
    "print(\"A = \",a)\n",
    "print(\"B = \",b)\n",
    "print(\"Modulo = \",mod)"
   ]
  },
  {
   "cell_type": "code",
   "execution_count": 25,
   "id": "8e519307-ad57-4818-b8e2-52e2488b0f76",
   "metadata": {},
   "outputs": [
    {
     "name": "stdout",
     "output_type": "stream",
     "text": [
      "A =  4\n",
      "B =  4\n",
      "Power =  256\n"
     ]
    }
   ],
   "source": [
    "a= 4\n",
    "b= 4\n",
    "Pow = a**b\n",
    "print(\"A = \",a)\n",
    "print(\"B = \",b)\n",
    "print(\"Power = \",Pow)"
   ]
  },
  {
   "cell_type": "code",
   "execution_count": null,
   "id": "3ad6cc7b-672f-4254-9277-11025e94db87",
   "metadata": {},
   "outputs": [],
   "source": []
  }
 ],
 "metadata": {
  "kernelspec": {
   "display_name": "Python [conda env:base] *",
   "language": "python",
   "name": "conda-base-py"
  },
  "language_info": {
   "codemirror_mode": {
    "name": "ipython",
    "version": 3
   },
   "file_extension": ".py",
   "mimetype": "text/x-python",
   "name": "python",
   "nbconvert_exporter": "python",
   "pygments_lexer": "ipython3",
   "version": "3.12.7"
  }
 },
 "nbformat": 4,
 "nbformat_minor": 5
}
