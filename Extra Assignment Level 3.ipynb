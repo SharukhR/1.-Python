{
 "cells": [
  {
   "cell_type": "code",
   "execution_count": 33,
   "id": "f5beeb38-000f-4869-9595-2eeefb496ae0",
   "metadata": {},
   "outputs": [
    {
     "name": "stdin",
     "output_type": "stream",
     "text": [
      "Enter a number:  10\n"
     ]
    },
    {
     "name": "stdout",
     "output_type": "stream",
     "text": [
      "CORRECT\n"
     ]
    }
   ],
   "source": [
    "i = int(input(\"Enter a number: \"))\n",
    "if i == 10:\n",
    "    print(\"CORRECT\")\n",
    "else:\n",
    "    print(\"NOT CORRECT\")"
   ]
  },
  {
   "cell_type": "code",
   "execution_count": 39,
   "id": "63abd0b4-4729-4ab7-b3ac-6bb3a267b0cd",
   "metadata": {},
   "outputs": [
    {
     "name": "stdin",
     "output_type": "stream",
     "text": [
      "Enter the password:  HOPE@123\n"
     ]
    },
    {
     "name": "stdout",
     "output_type": "stream",
     "text": [
      "Your password is correct\n"
     ]
    }
   ],
   "source": [
    "p = input(\"Enter the password: \")\n",
    "if p== 'HOPE@123':\n",
    "    print(\"Your password is correct\")\n",
    "else:\n",
    "    print(\"Not correct\")"
   ]
  },
  {
   "cell_type": "code",
   "execution_count": 43,
   "id": "1015da76-0d9b-4f3a-b9fb-3e2f148f8c76",
   "metadata": {},
   "outputs": [
    {
     "name": "stdin",
     "output_type": "stream",
     "text": [
      "Enter your Age : 24\n"
     ]
    },
    {
     "name": "stdout",
     "output_type": "stream",
     "text": [
      "Adult\n"
     ]
    }
   ],
   "source": [
    "age = int(input(\"Enter your Age :\"))\n",
    "if age<10:\n",
    "    print(\"Kid\")\n",
    "elif age<18:\n",
    "    print(\"teen\")\n",
    "elif age< 25:\n",
    "    print(\"Adult\")\n",
    "elif age< 40:\n",
    "    print(\"Senior\")\n",
    "else:\n",
    "    print (\"senior Citizen\")"
   ]
  },
  {
   "cell_type": "code",
   "execution_count": 47,
   "id": "20b3b054-16b4-4b85-94e7-c53702645735",
   "metadata": {},
   "outputs": [
    {
     "name": "stdin",
     "output_type": "stream",
     "text": [
      "Enter any number:  3\n"
     ]
    },
    {
     "name": "stdout",
     "output_type": "stream",
     "text": [
      "No is positive\n"
     ]
    }
   ],
   "source": [
    "n= int(input(\"Enter any number: \"))\n",
    "if n>0:\n",
    "    print(\"No is positive\")\n",
    "else:\n",
    "    print(\"No is negative\")"
   ]
  },
  {
   "cell_type": "code",
   "execution_count": 53,
   "id": "1393f8b8-a38b-448b-8bd9-b1feb56e19c0",
   "metadata": {},
   "outputs": [
    {
     "name": "stdin",
     "output_type": "stream",
     "text": [
      "Enter a number to check:  23\n"
     ]
    },
    {
     "name": "stdout",
     "output_type": "stream",
     "text": [
      "No is not divisible by 5\n"
     ]
    }
   ],
   "source": [
    "n = int(input(\"Enter a number to check: \"))\n",
    "if n%5==0:\n",
    "        print(\"No is divisible by 5\")\n",
    "else:\n",
    "        print(\"No is not divisible by 5\")\n"
   ]
  },
  {
   "cell_type": "code",
   "execution_count": null,
   "id": "13190b8a-979a-412e-b1e0-5b1670b633d1",
   "metadata": {},
   "outputs": [],
   "source": []
  }
 ],
 "metadata": {
  "kernelspec": {
   "display_name": "Python [conda env:base] *",
   "language": "python",
   "name": "conda-base-py"
  },
  "language_info": {
   "codemirror_mode": {
    "name": "ipython",
    "version": 3
   },
   "file_extension": ".py",
   "mimetype": "text/x-python",
   "name": "python",
   "nbconvert_exporter": "python",
   "pygments_lexer": "ipython3",
   "version": "3.12.7"
  }
 },
 "nbformat": 4,
 "nbformat_minor": 5
}
